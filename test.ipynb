{
 "cells": [
  {
   "cell_type": "code",
   "execution_count": 30,
   "metadata": {},
   "outputs": [
    {
     "data": {
      "text/plain": [
       "True"
      ]
     },
     "execution_count": 30,
     "metadata": {},
     "output_type": "execute_result"
    }
   ],
   "source": [
    "not 0\n"
   ]
  },
  {
   "cell_type": "code",
   "execution_count": 68,
   "metadata": {},
   "outputs": [
    {
     "data": {
      "text/plain": [
       "tensor([], dtype=torch.int32)"
      ]
     },
     "execution_count": 68,
     "metadata": {},
     "output_type": "execute_result"
    }
   ],
   "source": [
    "import torch\n",
    "from bitarray import bitarray\n",
    "\n",
    "neighbors = torch.tensor([\n",
    "    [1, 2],\n",
    "    [0, -1],\n",
    "    [0, -1],\n",
    "], dtype=torch.int)\n",
    "\n",
    "visited = bitarray([1, 1, 0])\n",
    "\n",
    "def not_in_visited(vertex):\n",
    "    return -1 if visited[vertex] else vertex\n",
    "\n",
    "current_layer = torch.tensor([1, 2], dtype=torch.int)\n",
    "flattened = neighbors[current_layer].flatten().unique()\n",
    "flattened[flattened != -1]\n",
    "next_layer = flattened.apply_(not_in_visited)[flattened != -1]\n",
    "next_layer"
   ]
  },
  {
   "cell_type": "code",
   "execution_count": 80,
   "metadata": {},
   "outputs": [
    {
     "name": "stdout",
     "output_type": "stream",
     "text": [
      "tensor([False,  True,  True,  True, False, False, False, False, False, False])\n"
     ]
    }
   ],
   "source": [
    "from bitarray import bitarray\n",
    "import torch\n",
    "\n",
    "visited = torch.full(size=(10,), fill_value=0, dtype=torch.bool)\n",
    "visited[torch.tensor([1, 2, 3], dtype=torch.int)] = 1\n",
    "\n",
    "print(visited)\n",
    "\n",
    "\"\"\"\n",
    "testbitarray = bitarray(100)\n",
    "testbitarray.setall(0)\n",
    "\n",
    "testbitarray[[47, 83]] = 1\n",
    "\n",
    "testbitarray\n",
    "\"\"\""
   ]
  },
  {
   "cell_type": "code",
   "execution_count": 17,
   "metadata": {},
   "outputs": [
    {
     "data": {
      "text/plain": [
       "'big'"
      ]
     },
     "execution_count": 17,
     "metadata": {},
     "output_type": "execute_result"
    }
   ],
   "source": [
    "from bitarray import bitarray\n",
    "\n",
    "test = bitarray(200)\n",
    "test.setall(0)  "
   ]
  },
  {
   "cell_type": "code",
   "execution_count": 1,
   "metadata": {},
   "outputs": [
    {
     "name": "stdout",
     "output_type": "stream",
     "text": [
      "0\n",
      "0\n",
      "1\n",
      "3\n"
     ]
    }
   ],
   "source": [
    "def bin_search_loc_in_prefix_sum(prefix_sum: list[int], loc: int) -> int:\n",
    "    \"\"\"\n",
    "    Returns the largest index i such that prefix_sum[i] <= loc\n",
    "    \"\"\"\n",
    "    l, r = 0, len(prefix_sum) - 1\n",
    "    while l < r:\n",
    "        mid = (l + r + 1) // 2\n",
    "        if prefix_sum[mid] <= loc:\n",
    "            l = mid\n",
    "        else:\n",
    "            r = mid - 1\n",
    "    return l\n",
    "\n",
    "arr1 = [0, 10, 16, 18, 23, 30, 37]\n",
    "print(bin_search_loc_in_prefix_sum(arr1, 0))\n",
    "print(bin_search_loc_in_prefix_sum(arr1, 1))\n",
    "print(bin_search_loc_in_prefix_sum(arr1, 10))\n",
    "print(bin_search_loc_in_prefix_sum(arr1, 20))"
   ]
  },
  {
   "cell_type": "code",
   "execution_count": 6,
   "metadata": {},
   "outputs": [
    {
     "data": {
      "text/plain": [
       "tensor([ True, False,  True])"
      ]
     },
     "execution_count": 6,
     "metadata": {},
     "output_type": "execute_result"
    }
   ],
   "source": [
    "import torch\n",
    "\n",
    "# Your tensor\n",
    "tensor1 = torch.tensor([\n",
    "    [1, 0, 1],\n",
    "    [0, 1, 1],\n",
    "    [1, 0, 0]\n",
    "])\n",
    "\n",
    "testmask = torch.tensor([True, False, True])\n",
    "\n",
    "torch.any(tensor1[testmask], dim=0)"
   ]
  },
  {
   "cell_type": "code",
   "execution_count": 6,
   "metadata": {},
   "outputs": [
    {
     "data": {
      "text/plain": [
       "tensor([False, False, False,  True,  True, False,  True,  True,  True, False])"
      ]
     },
     "execution_count": 6,
     "metadata": {},
     "output_type": "execute_result"
    }
   ],
   "source": [
    "import torch\n",
    "from bitarray import bitarray\n",
    "\n",
    "test_visited = torch.zeros(10, dtype=torch.bool)\n",
    "test_tensor = torch.tensor([3, 4, 6, 7, 8])\n",
    "\n",
    "# Set all indices marked in test_tensor in test_visited to 1\n",
    "test_visited[test_tensor] = 1\n",
    "test_visited"
   ]
  },
  {
   "cell_type": "code",
   "execution_count": 29,
   "metadata": {},
   "outputs": [
    {
     "ename": "IndexError",
     "evalue": "bitarray length is 4, but mask has length 3",
     "output_type": "error",
     "traceback": [
      "\u001b[1;31m---------------------------------------------------------------------------\u001b[0m",
      "\u001b[1;31mIndexError\u001b[0m                                Traceback (most recent call last)",
      "\u001b[1;32md:\\projects\\pytorch_graphs\\test.ipynb Cell 8\u001b[0m line \u001b[0;36m5\n\u001b[0;32m      <a href='vscode-notebook-cell:/d%3A/projects/pytorch_graphs/test.ipynb#X10sZmlsZQ%3D%3D?line=1'>2</a>\u001b[0m \u001b[39mfrom\u001b[39;00m \u001b[39mbitarray\u001b[39;00m \u001b[39mimport\u001b[39;00m bitarray\n\u001b[0;32m      <a href='vscode-notebook-cell:/d%3A/projects/pytorch_graphs/test.ipynb#X10sZmlsZQ%3D%3D?line=3'>4</a>\u001b[0m testba \u001b[39m=\u001b[39m bitarray([\u001b[39m1\u001b[39m, \u001b[39m0\u001b[39m, \u001b[39m1\u001b[39m, \u001b[39m1\u001b[39m])\n\u001b[1;32m----> <a href='vscode-notebook-cell:/d%3A/projects/pytorch_graphs/test.ipynb#X10sZmlsZQ%3D%3D?line=4'>5</a>\u001b[0m testba[bitarray([\u001b[39m0\u001b[39;49m, \u001b[39m0\u001b[39;49m, \u001b[39m1\u001b[39;49m])]\n",
      "\u001b[1;31mIndexError\u001b[0m: bitarray length is 4, but mask has length 3"
     ]
    }
   ],
   "source": [
    "import torch\n",
    "from bitarray import bitarray\n",
    "\n",
    "testba = bitarray([1, 0, 1, 1])\n",
    "testba[bitarray([0, 0, 1])]"
   ]
  },
  {
   "cell_type": "code",
   "execution_count": 1,
   "metadata": {},
   "outputs": [
    {
     "data": {
      "text/plain": [
       "bitarray('0011')"
      ]
     },
     "execution_count": 1,
     "metadata": {},
     "output_type": "execute_result"
    }
   ],
   "source": [
    "from bitarray import bitarray\n",
    "\n",
    "test = bitarray([0, 0, 0, 0, 0, 1, 1, 1, 1, 1])\n",
    "testmask = bitarray([1, 1, 0, 0, 0, 0, 0, 0, 1, 1])\n",
    "\n",
    "test[testmask]"
   ]
  },
  {
   "cell_type": "code",
   "execution_count": 36,
   "metadata": {},
   "outputs": [
    {
     "ename": "TypeError",
     "evalue": "only integer tensors of a single element can be converted to an index",
     "output_type": "error",
     "traceback": [
      "\u001b[1;31m---------------------------------------------------------------------------\u001b[0m",
      "\u001b[1;31mTypeError\u001b[0m                                 Traceback (most recent call last)",
      "\u001b[1;32md:\\projects\\pytorch_graphs\\test.ipynb Cell 10\u001b[0m line \u001b[0;36m4\n\u001b[0;32m      <a href='vscode-notebook-cell:/d%3A/projects/pytorch_graphs/test.ipynb#X12sZmlsZQ%3D%3D?line=0'>1</a>\u001b[0m \u001b[39mimport\u001b[39;00m \u001b[39mtorch\u001b[39;00m\n\u001b[0;32m      <a href='vscode-notebook-cell:/d%3A/projects/pytorch_graphs/test.ipynb#X12sZmlsZQ%3D%3D?line=1'>2</a>\u001b[0m \u001b[39mfrom\u001b[39;00m \u001b[39mbitarray\u001b[39;00m \u001b[39mimport\u001b[39;00m bitarray\n\u001b[1;32m----> <a href='vscode-notebook-cell:/d%3A/projects/pytorch_graphs/test.ipynb#X12sZmlsZQ%3D%3D?line=3'>4</a>\u001b[0m testba \u001b[39m=\u001b[39m bitarray(torch\u001b[39m.\u001b[39;49mtensor([\u001b[39m1\u001b[39;49m, \u001b[39m0\u001b[39;49m, \u001b[39m0\u001b[39;49m, \u001b[39m1\u001b[39;49m], dtype\u001b[39m=\u001b[39;49mtorch\u001b[39m.\u001b[39;49mbool))\n\u001b[0;32m      <a href='vscode-notebook-cell:/d%3A/projects/pytorch_graphs/test.ipynb#X12sZmlsZQ%3D%3D?line=4'>5</a>\u001b[0m testba\n",
      "\u001b[1;31mTypeError\u001b[0m: only integer tensors of a single element can be converted to an index"
     ]
    }
   ],
   "source": [
    "import torch\n",
    "from bitarray import bitarray\n",
    "\n",
    "testba = bitarray(torch.tensor([1, 0, 0, 1], dtype=torch.bool))\n",
    "testba"
   ]
  },
  {
   "cell_type": "code",
   "execution_count": 12,
   "metadata": {},
   "outputs": [
    {
     "ename": "RuntimeError",
     "evalue": "Boolean value of Tensor with more than one value is ambiguous",
     "output_type": "error",
     "traceback": [
      "\u001b[1;31m---------------------------------------------------------------------------\u001b[0m",
      "\u001b[1;31mRuntimeError\u001b[0m                              Traceback (most recent call last)",
      "Cell \u001b[1;32mIn[12], line 13\u001b[0m\n\u001b[0;32m     11\u001b[0m test1 \u001b[39m=\u001b[39m torch\u001b[39m.\u001b[39many(tens, dim\u001b[39m=\u001b[39m\u001b[39m0\u001b[39m)\n\u001b[0;32m     12\u001b[0m testrecord \u001b[39m=\u001b[39m bitarray([\u001b[39m0\u001b[39m, \u001b[39m1\u001b[39m, \u001b[39m1\u001b[39m, \u001b[39m0\u001b[39m])\n\u001b[1;32m---> 13\u001b[0m test1 \u001b[39mand\u001b[39;49;00m testrecord\n",
      "\u001b[1;31mRuntimeError\u001b[0m: Boolean value of Tensor with more than one value is ambiguous"
     ]
    }
   ],
   "source": [
    "import torch\n",
    "from bitarray import bitarray\n",
    "\n",
    "tens = torch.tensor([\n",
    "    [1, 0, 0, 1],\n",
    "    [0, 1, 0, 0],\n",
    "    [1, 1, 0, 0],\n",
    "    [0, 0, 0, 1],\n",
    "], dtype=torch.bool)\n",
    "\n",
    "test1 = torch.any(tens, dim=0)\n",
    "testrecord = bitarray([0, 1, 1, 0])\n",
    "test1 and testrecord"
   ]
  },
  {
   "cell_type": "code",
   "execution_count": 13,
   "metadata": {},
   "outputs": [
    {
     "data": {
      "text/plain": [
       "tensor([[ 1,  2,  3],\n",
       "        [10,  5,  6],\n",
       "        [ 7,  8,  9]])"
      ]
     },
     "execution_count": 13,
     "metadata": {},
     "output_type": "execute_result"
    }
   ],
   "source": [
    "import torch\n",
    "\n",
    "test2dtens = torch.tensor([\n",
    "    [1, 2, 3],\n",
    "    [4, 5, 6],\n",
    "    [7, 8, 9]\n",
    "])\n",
    "\n",
    "testarr = test2dtens[1]\n",
    "testarr[0] = 10\n",
    "test2dtens"
   ]
  }
 ],
 "metadata": {
  "kernelspec": {
   "display_name": "Python 3",
   "language": "python",
   "name": "python3"
  },
  "language_info": {
   "codemirror_mode": {
    "name": "ipython",
    "version": 3
   },
   "file_extension": ".py",
   "mimetype": "text/x-python",
   "name": "python",
   "nbconvert_exporter": "python",
   "pygments_lexer": "ipython3",
   "version": "3.11.3"
  },
  "orig_nbformat": 4
 },
 "nbformat": 4,
 "nbformat_minor": 2
}
